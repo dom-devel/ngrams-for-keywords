{
 "cells": [
  {
   "cell_type": "code",
   "execution_count": 1,
   "metadata": {},
   "outputs": [],
   "source": [
    "import pandas as pd\n",
    "import collections\n",
    "import nltk"
   ]
  },
  {
   "cell_type": "markdown",
   "metadata": {},
   "source": [
    "Copy the keywords you've got ready to go"
   ]
  },
  {
   "cell_type": "code",
   "execution_count": 10,
   "metadata": {},
   "outputs": [],
   "source": [
    "df = pd.read_clipboard(sep=\"\\n\", names=[\"kws\"])"
   ]
  },
  {
   "cell_type": "code",
   "execution_count": 11,
   "metadata": {},
   "outputs": [],
   "source": [
    "from nltk.corpus import stopwords"
   ]
  },
  {
   "cell_type": "markdown",
   "metadata": {},
   "source": [
    "First you run this, you'll need to do this step."
   ]
  },
  {
   "cell_type": "code",
   "execution_count": null,
   "metadata": {},
   "outputs": [],
   "source": [
    "nltk.download('stopwords')"
   ]
  },
  {
   "cell_type": "code",
   "execution_count": 12,
   "metadata": {},
   "outputs": [],
   "source": [
    "stopwords = set(stopwords.words('english')) "
   ]
  },
  {
   "cell_type": "code",
   "execution_count": null,
   "metadata": {},
   "outputs": [],
   "source": [
    "list_of_keywords = list(filter(None,df['kws'].tolist()))\n",
    "\n",
    "list_of_words_in_keywords = [x.split(\" \") for x in list_of_keywords]\n",
    "\n",
    "counts = collections.Counter()   # or nltk.FreqDist()\n",
    "for phrase in list_of_words_in_keywords:\n",
    "    phrase_no_stop = [w for w in phrase if not w in stopwords]\n",
    "    counts.update(nltk.ngrams(phrase_no_stop, 1))\n",
    "    counts.update(nltk.ngrams(phrase_no_stop, 2))\n",
    "    counts.update(nltk.ngrams(phrase_no_stop, 3))\n",
    "\n",
    "counts.most_common(200)"
   ]
  }
 ],
 "metadata": {
  "kernelspec": {
   "display_name": "Python 3",
   "language": "python",
   "name": "python3"
  },
  "language_info": {
   "codemirror_mode": {
    "name": "ipython",
    "version": 3
   },
   "file_extension": ".py",
   "mimetype": "text/x-python",
   "name": "python",
   "nbconvert_exporter": "python",
   "pygments_lexer": "ipython3",
   "version": "3.6.0"
  }
 },
 "nbformat": 4,
 "nbformat_minor": 2
}
